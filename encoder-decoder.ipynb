{
 "cells": [
  {
   "cell_type": "code",
   "execution_count": 343,
   "metadata": {},
   "outputs": [],
   "source": [
    "import pandas as pd\n",
    "import numpy as np\n",
    "import time\n",
    "import os\n",
    "%matplotlib inline\n",
    "import seaborn as sns\n",
    "sns.set_style(\"darkgrid\")\n",
    "from keras.models import Model\n",
    "from keras.layers import Input, LSTM, Dense, LSTMCell, RNN, Bidirectional, concatenate\n",
    "from keras.optimizers import Adam\n",
    "from sklearn.preprocessing import MinMaxScaler\n",
    "import matplotlib.pyplot as plt\n",
    "from pylab import *\n",
    "import itertools\n",
    "from sklearn import metrics \n",
    "mpl.rcParams['font.sans-serif'] = ['SimHei']"
   ]
  },
  {
   "cell_type": "markdown",
   "metadata": {},
   "source": [
    "## 数据预处理"
   ]
  },
  {
   "cell_type": "code",
   "execution_count": 344,
   "metadata": {
    "collapsed": true
   },
   "outputs": [],
   "source": [
    "#进行粒度的划分\n",
    "def Data_range(data,range_len):\n",
    "    data.sort_values('时间')\n",
    "    Time = data['时间']\n",
    "    Values = data['容量']\n",
    "    Values_new = []\n",
    "    for i in range(0,len(data),range_len):\n",
    "        values = round(np.mean(Values[i:i+range_len]),2)\n",
    "        Values_new.append(values)\n",
    "    return Values_new"
   ]
  },
  {
   "cell_type": "code",
   "execution_count": 349,
   "metadata": {},
   "outputs": [],
   "source": [
    "#命中率数据\n",
    "data_hit = pd.read_csv('hit_buquan_disk.csv')\n",
    "Values_hit_new = Data_range(data_hit,3)\n",
    "data_miss = pd.read_csv('miss_buquan_disk.csv')\n",
    "Values_miss_new = Data_range(data_miss,3)\n",
    "hit_rate = [b /(a+b) for a, b in zip(Values_miss_new,Values_hit_new)] \n",
    "seq = pd.Series(hit_rate)\n",
    "#标准化处理\n",
    "scaler = MinMaxScaler(feature_range=(-1,1))\n",
    "X =scaler.fit_transform(seq.values.reshape(-1,1))"
   ]
  },
  {
   "cell_type": "code",
   "execution_count": 372,
   "metadata": {},
   "outputs": [],
   "source": [
    "#磁盘数据D\n",
    "range_len = 36\n",
    "data_d = pd.read_csv('d_buquan_disk.csv')\n",
    "Values_dnew = Data_range(data_d,range_len)\n",
    "seq = pd.Series(Values_dnew)\n",
    "#标准化处理\n",
    "scaler = MinMaxScaler(feature_range=(-1,1))\n",
    "X =scaler.fit_transform(seq.values.reshape(-1,1))"
   ]
  },
  {
   "cell_type": "code",
   "execution_count": 407,
   "metadata": {
    "collapsed": true
   },
   "outputs": [],
   "source": [
    "#磁盘数据C\n",
    "range_len = 36\n",
    "data_c = pd.read_csv('c_buquan_disk.csv')\n",
    "Values_dnew = Data_range(data_c,range_len)\n",
    "seq = pd.Series(Values_cnew)\n",
    "#标准化处理\n",
    "scaler = MinMaxScaler(feature_range=(-1,1))\n",
    "X =scaler.fit_transform(seq.values.reshape(-1,1))"
   ]
  },
  {
   "cell_type": "code",
   "execution_count": 408,
   "metadata": {},
   "outputs": [
    {
     "data": {
      "image/png": "[encoded data removed]",
      "text/plain": [
       "<matplotlib.figure.Figure at 0x202097fa828>"
      ]
     },
     "metadata": {},
     "output_type": "display_data"
    }
   ],
   "source": [
    "#数据展示\n",
    "plt.figure(figsize=(6,4))\n",
    "plt.title(\"数据展示\", fontsize = 18)\n",
    "plt.xlabel(\"时间序列\", fontsize = 18)\n",
    "plt.ylabel(\"值\", fontsize = 18)\n",
    "plt.plot(seq)\n",
    "plt.show()"
   ]
  },
  {
   "cell_type": "markdown",
   "metadata": {},
   "source": [
    "## 数据处理 \n",
    "“input_seq_len + Output_seq_len”的总数的点将形成一个单一的训练样本，\n",
    "输入(X)(编码器输入)是“input_seq”，我们的目标(Y)(解码器目标)是“output_seq”,\n",
    "随机索引并创建这样的样本，以形成一批size= batch_size。"
   ]
  },
  {
   "cell_type": "code",
   "execution_count": 312,
   "metadata": {
    "collapsed": true
   },
   "outputs": [],
   "source": [
    "def generate_train_sequences(x):\n",
    "    \n",
    "    total_start_points = len(x) - input_seq_len - output_seq_len\n",
    "    start_x_idx = np.random.choice(range(total_start_points), total_start_points, replace = False)\n",
    "    \n",
    "    input_batch_idxs = [(range(i, i+input_seq_len)) for i in start_x_idx]\n",
    "    input_seq = np.take(x, input_batch_idxs, axis = 0)\n",
    "    \n",
    "    output_batch_idxs = [(range(i+input_seq_len, i+input_seq_len+output_seq_len)) for i in start_x_idx]\n",
    "    output_seq = np.take(x, output_batch_idxs, axis = 0)\n",
    "    \n",
    "    input_seq =(input_seq.reshape(input_seq.shape[0],input_seq.shape[1],n_in_features))\n",
    "    output_seq=(output_seq.reshape(output_seq.shape[0],output_seq.shape[1],n_out_features))\n",
    "    \n",
    "    return input_seq, output_seq"
   ]
  },
  {
   "cell_type": "markdown",
   "metadata": {},
   "source": [
    "## 建立模型"
   ]
  },
  {
   "cell_type": "code",
   "execution_count": 313,
   "metadata": {
    "collapsed": true
   },
   "outputs": [],
   "source": [
    "def create_model(layers, bidirectional=False):\n",
    "    \n",
    "    n_layers = len(layers)\n",
    "    \n",
    "    ## Encoder过程\n",
    "    encoder_inputs = Input(shape=(None, n_in_features))\n",
    "    lstm_cells = [LSTMCell(hidden_dim) for hidden_dim in layers]\n",
    "    if bidirectional:\n",
    "        encoder = Bidirectional(RNN(lstm_cells, return_state=True))\n",
    "        encoder_outputs_and_states = encoder(encoder_inputs)\n",
    "        bi_encoder_states = encoder_outputs_and_states[1:]\n",
    "        encoder_states = []\n",
    "        for i in range(int(len(bi_encoder_states)/2)):\n",
    "            temp = concatenate([bi_encoder_states[i],bi_encoder_states[2*n_layers + i]], axis=-1)\n",
    "            encoder_states.append(temp)\n",
    "    else:  \n",
    "        encoder = RNN(lstm_cells, return_state=True)\n",
    "        encoder_outputs_and_states = encoder(encoder_inputs)\n",
    "        encoder_states = encoder_outputs_and_states[1:]\n",
    "    \n",
    "    ## Decoder过程\n",
    "    decoder_inputs = Input(shape=(None, n_out_features))\n",
    "    if bidirectional:\n",
    "        decoder_cells = [LSTMCell(hidden_dim*2) for hidden_dim in layers]\n",
    "    else:\n",
    "        decoder_cells = [LSTMCell(hidden_dim) for hidden_dim in layers]\n",
    "        \n",
    "    decoder_lstm = RNN(decoder_cells, return_sequences=True, return_state=True)\n",
    "\n",
    "    decoder_outputs_and_states = decoder_lstm(decoder_inputs,initial_state=encoder_states)\n",
    "    decoder_outputs = decoder_outputs_and_states[0]\n",
    "\n",
    "    decoder_dense = Dense(n_out_features) \n",
    "    decoder_outputs = decoder_dense(decoder_outputs)\n",
    "    \n",
    "    model = Model([encoder_inputs,decoder_inputs], decoder_outputs)\n",
    "    return model"
   ]
  },
  {
   "cell_type": "code",
   "execution_count": 325,
   "metadata": {
    "collapsed": true
   },
   "outputs": [],
   "source": [
    "def run_model(model,batches,epochs,batch_size):\n",
    "\n",
    "    for _ in range(batches):\n",
    "        input_seq, output_seq = generate_train_sequences(x_train)\n",
    "\n",
    "        encoder_input_data = input_seq\n",
    "        decoder_target_data = output_seq\n",
    "        decoder_input_data = np.zeros(decoder_target_data.shape)\n",
    "\n",
    "        history = model.fit([encoder_input_data, decoder_input_data], decoder_target_data,\n",
    "                             batch_size=batch_size,\n",
    "                             epochs=epochs,\n",
    "                             validation_split=0.1, \n",
    "                             shuffle=False)\n",
    "                           \n",
    "        total_loss.append(history.history['loss'])\n",
    "        total_val_loss.append(history.history['val_loss'])"
   ]
  },
  {
   "cell_type": "code",
   "execution_count": 368,
   "metadata": {
    "collapsed": true
   },
   "outputs": [],
   "source": [
    "def plot_loss(train_loss,val_loss):\n",
    "    plt.figure(figsize=(12,7))\n",
    "    plt.plot(train_loss)\n",
    "    plt.plot(val_loss)\n",
    "\n",
    "    plt.xlabel('Epoch')\n",
    "    plt.ylabel('Mean Sqquared Error Loss')\n",
    "    plt.title('Loss Over Time')\n",
    "    plt.legend(['Train','Valid'])\n",
    "    plt.show()\n",
    "def Error(predict,true):\n",
    "    mse = round(metrics.mean_squared_error(true, predict),4)\n",
    "    rmse = round(np.sqrt(metrics.mean_squared_error(true, predict)),4)\n",
    "    mae =  round(metrics.mean_absolute_error(true, predict),4)\n",
    "    mape = round(np.mean(np.abs((true, predict) / np.array(true).reshape(1,len(true)))) * 100,4)\n",
    "    print(\"误差MSE：\",mse)\n",
    "    print(\"误差RMSE：\",rmse)\n",
    "    print(\"误差MAE：\",mae)\n",
    "    print(\"误差MAPE：\",mape)    \n",
    "    plt.plot(predict,'y.',label=\"预测\")\n",
    "    plt.plot(true,'r.',label=\"真实\")\n",
    "    plt.xlabel(U'时间序号')\n",
    "    plt.legend()\n",
    "    plt.show()\n",
    "    return mse,rmse,mae,mape"
   ]
  },
  {
   "cell_type": "markdown",
   "metadata": {},
   "source": [
    "### 一层网络结构"
   ]
  },
  {
   "cell_type": "code",
   "execution_count": 419,
   "metadata": {
    "collapsed": true
   },
   "outputs": [],
   "source": [
    "x_train = X[:-20]#训练数据部分\n",
    "y = X[-20:]#用来测试比较结果（处理后的数据20条包含5天的数据）\n",
    "input_seq_len = 60#训练时候的输入长度\n",
    "output_seq_len = 20#训练时候的输出长度\n",
    "n_in_features = 1#特征，单序列为1\n",
    "n_out_features = 1\n",
    "batch_size = 10#每次放入的序列数量\n",
    "epoch = 30#训练的迭代次数"
   ]
  },
  {
   "cell_type": "markdown",
   "metadata": {},
   "source": [
    "训练过程"
   ]
  },
  {
   "cell_type": "code",
   "execution_count": 420,
   "metadata": {},
   "outputs": [
    {
     "name": "stdout",
     "output_type": "stream",
     "text": [
      "Train on 50 samples, validate on 6 samples\n",
      "Epoch 1/30\n",
      "50/50 [==============================] - 9s 174ms/step - loss: 0.2452 - val_loss: 0.1780\n",
      "Epoch 2/30\n",
      "50/50 [==============================] - 0s 4ms/step - loss: 0.1564 - val_loss: 0.0863\n",
      "Epoch 3/30\n",
      "50/50 [==============================] - 0s 4ms/step - loss: 0.0543 - val_loss: 0.0383\n",
      "Epoch 4/30\n",
      "50/50 [==============================] - 0s 4ms/step - loss: 0.0285 - val_loss: 0.0071\n",
      "Epoch 5/30\n",
      "50/50 [==============================] - 0s 4ms/step - loss: 0.0068 - val_loss: 0.0036\n",
      "Epoch 6/30\n",
      "50/50 [==============================] - 0s 4ms/step - loss: 0.0064 - val_loss: 0.0035\n",
      "Epoch 7/30\n",
      "50/50 [==============================] - 0s 4ms/step - loss: 0.0068 - val_loss: 0.0045\n",
      "Epoch 8/30\n",
      "50/50 [==============================] - 0s 5ms/step - loss: 0.0067 - val_loss: 0.0032\n",
      "Epoch 9/30\n",
      "50/50 [==============================] - 0s 4ms/step - loss: 0.0057 - val_loss: 0.0026\n",
      "Epoch 10/30\n",
      "50/50 [==============================] - 0s 4ms/step - loss: 0.0046 - val_loss: 0.0023\n",
      "Epoch 11/30\n",
      "50/50 [==============================] - 0s 4ms/step - loss: 0.0041 - val_loss: 0.0024\n",
      "Epoch 12/30\n",
      "50/50 [==============================] - 0s 4ms/step - loss: 0.0040 - val_loss: 0.0025\n",
      "Epoch 13/30\n",
      "50/50 [==============================] - 0s 4ms/step - loss: 0.0040 - val_loss: 0.0026\n",
      "Epoch 14/30\n",
      "50/50 [==============================] - 0s 5ms/step - loss: 0.0039 - val_loss: 0.0027\n",
      "Epoch 15/30\n",
      "50/50 [==============================] - 0s 4ms/step - loss: 0.0039 - val_loss: 0.0025\n",
      "Epoch 16/30\n",
      "50/50 [==============================] - 0s 4ms/step - loss: 0.0038 - val_loss: 0.0024\n",
      "Epoch 17/30\n",
      "50/50 [==============================] - 0s 4ms/step - loss: 0.0037 - val_loss: 0.0024\n",
      "Epoch 18/30\n",
      "50/50 [==============================] - 0s 4ms/step - loss: 0.0037 - val_loss: 0.0024\n",
      "Epoch 19/30\n",
      "50/50 [==============================] - 0s 5ms/step - loss: 0.0037 - val_loss: 0.0024\n",
      "Epoch 20/30\n",
      "50/50 [==============================] - 0s 4ms/step - loss: 0.0036 - val_loss: 0.0025\n",
      "Epoch 21/30\n",
      "50/50 [==============================] - 0s 5ms/step - loss: 0.0036 - val_loss: 0.0025\n",
      "Epoch 22/30\n",
      "50/50 [==============================] - 0s 6ms/step - loss: 0.0036 - val_loss: 0.0026\n",
      "Epoch 23/30\n",
      "50/50 [==============================] - 0s 6ms/step - loss: 0.0036 - val_loss: 0.0026\n",
      "Epoch 24/30\n",
      "50/50 [==============================] - 0s 6ms/step - loss: 0.0035 - val_loss: 0.0026\n",
      "Epoch 25/30\n",
      "50/50 [==============================] - 0s 6ms/step - loss: 0.0035 - val_loss: 0.0027\n",
      "Epoch 26/30\n",
      "50/50 [==============================] - 0s 6ms/step - loss: 0.0035 - val_loss: 0.0027\n",
      "Epoch 27/30\n",
      "50/50 [==============================] - 0s 5ms/step - loss: 0.0035 - val_loss: 0.0027\n",
      "Epoch 28/30\n",
      "50/50 [==============================] - 0s 5ms/step - loss: 0.0035 - val_loss: 0.0027\n",
      "Epoch 29/30\n",
      "50/50 [==============================] - 0s 6ms/step - loss: 0.0034 - val_loss: 0.0027\n",
      "Epoch 30/30\n",
      "50/50 [==============================] - 0s 6ms/step - loss: 0.0034 - val_loss: 0.0028\n",
      "训练时间： 0.29311527411142985\n"
     ]
    },
    {
     "data": {
      "image/png": "[encoded data removed]",
      "text/plain": [
       "<matplotlib.figure.Figure at 0x202221725f8>"
      ]
     },
     "metadata": {},
     "output_type": "display_data"
    }
   ],
   "source": [
    "#15是中间隐藏层的个数\n",
    "model_1 = create_model(layers=[60],bidirectional=False)\n",
    "#训练过程展示\n",
    "total_loss = []\n",
    "total_val_loss = []\n",
    "model_1.compile(Adam(), loss = 'mean_squared_error')\n",
    "start_time = time.time()\n",
    "run_model(model_1,batches=1, epochs=epoch, batch_size=batch_size)\n",
    "end_time = time.time()\n",
    "#训练时间\n",
    "run_time = (end_time - start_time)/60\n",
    "print(\"训练时间：\",run_time)\n",
    "total_loss = [j for i in total_loss for j in i]\n",
    "total_val_loss = [j for i in total_val_loss for j in i]\n",
    "plot_loss(total_loss,total_val_loss)"
   ]
  },
  {
   "cell_type": "markdown",
   "metadata": {},
   "source": [
    "预测过程"
   ]
  },
  {
   "cell_type": "code",
   "execution_count": 421,
   "metadata": {},
   "outputs": [
    {
     "name": "stdout",
     "output_type": "stream",
     "text": [
      "误差MSE： 0.0596\n",
      "误差RMSE： 0.2441\n",
      "误差MAE： 0.2312\n",
      "误差MAPE： 99.8469\n"
     ]
    },
    {
     "data": {
      "image/png": "[encoded data removed]",
      "text/plain": [
       "<matplotlib.figure.Figure at 0x202202a5c50>"
      ]
     },
     "metadata": {},
     "output_type": "display_data"
    },
    {
     "data": {
      "image/png": "[encoded data removed]",
      "text/plain": [
       "<matplotlib.figure.Figure at 0x20222215240>"
      ]
     },
     "metadata": {},
     "output_type": "display_data"
    }
   ],
   "source": [
    "input_seq_test = x_train[-60:].reshape((1,60,1))\n",
    "output_seq_test = y[:20]\n",
    "decoder_input_test = np.zeros((1,output_seq_len,1))\n",
    "#预测结果以及展示\n",
    "pred1 = model_1.predict([input_seq_test,decoder_input_test])\n",
    "pred_values1 = scaler.inverse_transform(pred1.reshape(-1,1))\n",
    "output_seq_test1 = scaler.inverse_transform(output_seq_test)\n",
    "output_seq_train1 = scaler.inverse_transform(x_train)\n",
    "\n",
    "#计算误差画图\n",
    "mse,rmse,mae,mape = Error(pred_values1,output_seq_test1)\n",
    "\n",
    "\n",
    "l1, = plt.plot(range(len(output_seq_train1)), output_seq_train1, label = '训练数据 ')\n",
    "l2, = plt.plot(range(len(x_train), len(y)+len(x_train)), output_seq_test1,  label = '测试数据')\n",
    "l3, = plt.plot(range(len(x_train), len(y)+len(x_train)), pred_values1.reshape(-1), label = '预测数据')\n",
    "plt.legend(handles = [l1, l2, l3])\n",
    "plt.xlabel(\"时间序列\", fontsize=12)\n",
    "plt.show()\n"
   ]
  },
  {
   "cell_type": "markdown",
   "metadata": {},
   "source": [
    "### 两层网络结构"
   ]
  },
  {
   "cell_type": "code",
   "execution_count": 250,
   "metadata": {
    "collapsed": true
   },
   "outputs": [],
   "source": [
    "x_train = X[:-20]\n",
    "y = X[-20:]\n",
    "input_seq_len = 60\n",
    "output_seq_len = 20\n",
    "n_in_features = 1\n",
    "n_out_features = 1\n",
    "batch_size = 10"
   ]
  },
  {
   "cell_type": "markdown",
   "metadata": {},
   "source": [
    "训练过程"
   ]
  },
  {
   "cell_type": "code",
   "execution_count": 251,
   "metadata": {
    "collapsed": true
   },
   "outputs": [],
   "source": [
    "model_2 = create_model([60,60],bidirectional=False)\n",
    "total_loss = []\n",
    "total_val_loss = []\n",
    "model_2.compile(Adam(), loss = 'mean_squared_error')\n",
    "start_time = time.time()\n",
    "run_model(model_2,batches=1, epochs=50, batch_size=batch_size,x_train)\n",
    "end_time = time.time()\n",
    "total_loss = [j for i in total_loss for j in i]\n",
    "total_val_loss = [j for i in total_val_loss for j in i]\n",
    "plot_loss(total_loss,total_val_loss)\n",
    "run_time = (end_time - start_time)/60\n",
    "print(\"训练时间：\",run_time)"
   ]
  },
  {
   "cell_type": "markdown",
   "metadata": {
    "collapsed": true
   },
   "source": [
    "预测过程"
   ]
  },
  {
   "cell_type": "code",
   "execution_count": 271,
   "metadata": {},
   "outputs": [],
   "source": [
    "input_seq_test = x_train[-60:].reshape((1,60,1))\n",
    "output_seq_test = y[:20]\n",
    "decoder_input_test = np.zeros((1,output_seq_len,1))\n",
    "\n",
    "pred2 = model_2.predict([input_seq_test,decoder_input_test])\n",
    "pred_values2 = scaler.inverse_transform(pred2.reshape(-1,1))\n",
    "output_seq_test2 = scaler.inverse_transform(output_seq_test)\n",
    "\n",
    "mse,rmse,mae,mape = Error(pred_values2,output_seq_test2)\n",
    "\n",
    "plt.plot(pred_values2, label = \"预测\")\n",
    "plt.plot(output_seq_test2, label = \"真实\")\n",
    "plt.title(\"Prediction vs Actual\")\n",
    "plt.ylabel(\"Temperature\", fontsize=12)\n",
    "plt.xlabel(\"时间序列\", fontsize=12)\n",
    "plt.legend()\n",
    "# plt.savefig('pred_.png')\n",
    "plt.show()"
   ]
  }
 ],
 "metadata": {
  "kernelspec": {
   "display_name": "Python 3",
   "language": "python",
   "name": "python3"
  },
  "language_info": {
   "codemirror_mode": {
    "name": "ipython",
    "version": 3
   },
   "file_extension": ".py",
   "mimetype": "text/x-python",
   "name": "python",
   "nbconvert_exporter": "python",
   "pygments_lexer": "ipython3",
   "version": "3.6.3"
  }
 },
 "nbformat": 4,
 "nbformat_minor": 2
}
